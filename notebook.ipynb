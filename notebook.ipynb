{
 "cells": [
  {
   "cell_type": "code",
   "execution_count": 6,
   "id": "f84e43a9-08c2-4bc2-ac16-4b5c5f6145a1",
   "metadata": {},
   "outputs": [
    {
     "output_type": "stream",
     "name": "stdout",
     "text": [
      "Evaluating ./test_data/openmind.mp3...\nEstimated Key: F# minor\nEstimated Tempo: 112.35\nWall time: 2.92 s\n"
     ]
    }
   ],
   "source": [
    "%%time\n",
    "!python get_features.py -k -b -f \"./test_data/openmind.mp3\""
   ]
  },
  {
   "cell_type": "code",
   "execution_count": 7,
   "id": "a7049c8a-bff6-4796-9ee9-afae5e7dd4a1",
   "metadata": {},
   "outputs": [
    {
     "output_type": "stream",
     "name": "stdout",
     "text": [
      "Evaluating ./test_data/zimzalabim.mp3...\nEstimated Key: F minor\nEstimated Tempo: 129.2\nWall time: 2.88 s\n"
     ]
    }
   ],
   "source": [
    "%%time\n",
    "!python get_features.py -k -b -f \"./test_data/zimzalabim.mp3\""
   ]
  },
  {
   "cell_type": "code",
   "execution_count": 8,
   "metadata": {},
   "outputs": [
    {
     "output_type": "stream",
     "name": "stdout",
     "text": [
      "Evaluating ./test_data/sam_smith.mp3...\nEstimated Key: C major\nEstimated Tempo: 86.13\nWall time: 2.88 s\n"
     ]
    }
   ],
   "source": [
    "%%time\n",
    "!python get_features.py -k -b -f \"./test_data/sam_smith.mp3\""
   ]
  }
 ],
 "metadata": {
  "kernelspec": {
   "name": "python3",
   "display_name": "Python 3.8.8 64-bit ('mashups-sALs0Du--py3.8': venv)"
  },
  "language_info": {
   "codemirror_mode": {
    "name": "ipython",
    "version": 3
   },
   "file_extension": ".py",
   "mimetype": "text/x-python",
   "name": "python",
   "nbconvert_exporter": "python",
   "pygments_lexer": "ipython3",
   "version": "3.8.8"
  },
  "interpreter": {
   "hash": "407083d5f544367d391445e2c1359af4f697012ca2297597f5f1376ecca1c7fe"
  }
 },
 "nbformat": 4,
 "nbformat_minor": 5
}