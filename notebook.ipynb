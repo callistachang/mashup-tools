{
 "cells": [
  {
   "cell_type": "code",
   "execution_count": 1,
   "id": "f84e43a9-08c2-4bc2-ac16-4b5c5f6145a1",
   "metadata": {},
   "outputs": [
    {
     "name": "stdout",
     "output_type": "stream",
     "text": [
      "[ 7.67604632 -3.15860818 -1.88969563 -1.19524836 -0.12906187  2.45276746\n",
      " -4.02306796  5.1454931   0.52466672 -1.2342348  -2.00992528 -2.15913153] [ 6.38296561  0.33563726 -1.6510728  -5.9215623   3.97153956  0.36628074\n",
      " -4.74564393 -0.13987154 -1.63312243  5.01662107 -2.30726729  0.32549604]\n",
      "Key: C major\n"
     ]
    }
   ],
   "source": [
    "from get_features import Song\n",
    "\n",
    "audio_filepath = \"./test_data/sam_smith.mp3\"\n",
    "song = Song(audio_filepath)\n",
    "print(\"Key:\", song.get_estimated_song_key())"
   ]
  },
  {
   "cell_type": "code",
   "execution_count": 2,
   "id": "a7049c8a-bff6-4796-9ee9-afae5e7dd4a1",
   "metadata": {},
   "outputs": [
    {
     "name": "stdout",
     "output_type": "stream",
     "text": [
      "[ 2.31352135 -0.25247472 -0.78377806  0.65449594 -0.30196283  4.26667083\n",
      " -1.84097004 -1.49465027 -1.00359809 -0.55449319  1.59612089 -2.59888182] [-1.74643346 -2.85930984  0.86426325 -1.26607505  0.89028243  3.97856369\n",
      "  1.20192505  1.79662667 -1.42847699  2.83651933  0.21602584 -4.48391093]\n",
      "Key: F major\n"
     ]
    }
   ],
   "source": [
    "audio_filepath = \"./test_data/zimzalabim.mp3\"\n",
    "song = Song(audio_filepath)\n",
    "print(\"Key:\", song.get_estimated_song_key())"
   ]
  }
 ],
 "metadata": {
  "kernelspec": {
   "display_name": "Python 3",
   "language": "python",
   "name": "python3"
  },
  "language_info": {
   "codemirror_mode": {
    "name": "ipython",
    "version": 3
   },
   "file_extension": ".py",
   "mimetype": "text/x-python",
   "name": "python",
   "nbconvert_exporter": "python",
   "pygments_lexer": "ipython3",
   "version": "3.8.8"
  }
 },
 "nbformat": 4,
 "nbformat_minor": 5
}
