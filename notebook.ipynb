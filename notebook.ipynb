{
 "cells": [
  {
   "cell_type": "code",
   "execution_count": 5,
   "id": "f84e43a9-08c2-4bc2-ac16-4b5c5f6145a1",
   "metadata": {},
   "outputs": [
    {
     "output_type": "stream",
     "name": "stdout",
     "text": [
      "Evaluating ./test_data/openmind.mp3...Wall time: 8.9 s\nKey: F# minor\nTempo: 107.67\n\n"
     ]
    }
   ],
   "source": [
    "%%time\n",
    "!python get_features.py -k -b -f \"./test_data/openmind.mp3\""
   ]
  },
  {
   "cell_type": "code",
   "execution_count": 2,
   "id": "a7049c8a-bff6-4796-9ee9-afae5e7dd4a1",
   "metadata": {},
   "outputs": [
    {
     "name": "stdout",
     "output_type": "stream",
     "text": [
      "[ 2.31352135 -0.25247472 -0.78377806  0.65449594 -0.30196283  4.26667083\n",
      " -1.84097004 -1.49465027 -1.00359809 -0.55449319  1.59612089 -2.59888182] [-1.74643346 -2.85930984  0.86426325 -1.26607505  0.89028243  3.97856369\n",
      "  1.20192505  1.79662667 -1.42847699  2.83651933  0.21602584 -4.48391093]\n",
      "Key: F major\n"
     ]
    }
   ],
   "source": [
    "%%time\n",
    "!python get_features.py -k -b -f \"./test_data/zimzalabim.mp3\""
   ]
  }
 ],
 "metadata": {
  "kernelspec": {
   "name": "python3",
   "display_name": "Python 3.8.8 64-bit ('mashups-sALs0Du--py3.8': venv)"
  },
  "language_info": {
   "codemirror_mode": {
    "name": "ipython",
    "version": 3
   },
   "file_extension": ".py",
   "mimetype": "text/x-python",
   "name": "python",
   "nbconvert_exporter": "python",
   "pygments_lexer": "ipython3",
   "version": "3.8.8"
  },
  "interpreter": {
   "hash": "407083d5f544367d391445e2c1359af4f697012ca2297597f5f1376ecca1c7fe"
  }
 },
 "nbformat": 4,
 "nbformat_minor": 5
}